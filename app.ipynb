{
 "cells": [
  {
   "cell_type": "code",
   "execution_count": 2,
   "id": "a14dda2d",
   "metadata": {},
   "outputs": [
    {
     "name": "stdout",
     "output_type": "stream",
     "text": [
      "Collecting streamlit\n",
      "  Downloading streamlit-1.20.0-py2.py3-none-any.whl (9.6 MB)\n",
      "\u001b[2K     \u001b[90m━━━━━━━━━━━━━━━━━━━━━━━━━━━━━━━━━━━━━━━━\u001b[0m \u001b[32m9.6/9.6 MB\u001b[0m \u001b[31m546.2 kB/s\u001b[0m eta \u001b[36m0:00:00\u001b[0m00:01\u001b[0m00:01\u001b[0m\n",
      "\u001b[?25hRequirement already satisfied: importlib-metadata>=1.4 in /Users/mahimasrivastava/opt/anaconda3/lib/python3.9/site-packages (from streamlit) (4.11.3)\n",
      "Collecting pyarrow>=4.0\n",
      "  Using cached pyarrow-11.0.0-cp39-cp39-macosx_10_14_x86_64.whl (24.5 MB)\n",
      "Collecting pympler>=0.9\n",
      "  Using cached Pympler-1.0.1-py3-none-any.whl (164 kB)\n",
      "Collecting altair<5,>=3.2.0\n",
      "  Using cached altair-4.2.2-py3-none-any.whl (813 kB)\n",
      "Requirement already satisfied: toml in /Users/mahimasrivastava/opt/anaconda3/lib/python3.9/site-packages (from streamlit) (0.10.2)\n",
      "Requirement already satisfied: pillow>=6.2.0 in /Users/mahimasrivastava/opt/anaconda3/lib/python3.9/site-packages (from streamlit) (9.2.0)\n",
      "Requirement already satisfied: tornado>=6.0.3 in /Users/mahimasrivastava/opt/anaconda3/lib/python3.9/site-packages (from streamlit) (6.1)\n",
      "Collecting rich>=10.11.0\n",
      "  Downloading rich-13.3.3-py3-none-any.whl (238 kB)\n",
      "\u001b[2K     \u001b[90m━━━━━━━━━━━━━━━━━━━━━━━━━━━━━━━━━━━━━\u001b[0m \u001b[32m238.7/238.7 kB\u001b[0m \u001b[31m565.9 kB/s\u001b[0m eta \u001b[36m0:00:00\u001b[0ma \u001b[36m0:00:01\u001b[0m\n",
      "\u001b[?25hRequirement already satisfied: packaging>=14.1 in /Users/mahimasrivastava/opt/anaconda3/lib/python3.9/site-packages (from streamlit) (21.3)\n",
      "Requirement already satisfied: requests>=2.4 in /Users/mahimasrivastava/opt/anaconda3/lib/python3.9/site-packages (from streamlit) (2.28.1)\n",
      "Collecting pydeck>=0.1.dev5\n",
      "  Using cached pydeck-0.8.0-py2.py3-none-any.whl (4.7 MB)\n",
      "Requirement already satisfied: click>=7.0 in /Users/mahimasrivastava/opt/anaconda3/lib/python3.9/site-packages (from streamlit) (8.0.4)\n",
      "Requirement already satisfied: pandas<2,>=0.25 in /Users/mahimasrivastava/opt/anaconda3/lib/python3.9/site-packages (from streamlit) (1.4.4)\n",
      "Requirement already satisfied: python-dateutil in /Users/mahimasrivastava/opt/anaconda3/lib/python3.9/site-packages (from streamlit) (2.8.2)\n",
      "Collecting validators>=0.2\n",
      "  Using cached validators-0.20.0-py3-none-any.whl\n",
      "Collecting tzlocal>=1.1\n",
      "  Downloading tzlocal-4.3-py3-none-any.whl (20 kB)\n",
      "Requirement already satisfied: numpy in /Users/mahimasrivastava/opt/anaconda3/lib/python3.9/site-packages (from streamlit) (1.21.5)\n",
      "Collecting semver\n",
      "  Downloading semver-3.0.0-py3-none-any.whl (17 kB)\n",
      "Requirement already satisfied: cachetools>=4.0 in /Users/mahimasrivastava/opt/anaconda3/lib/python3.9/site-packages (from streamlit) (5.3.0)\n",
      "Collecting gitpython!=3.1.19\n",
      "  Using cached GitPython-3.1.31-py3-none-any.whl (184 kB)\n",
      "Collecting blinker>=1.0.0\n",
      "  Downloading blinker-1.6-py3-none-any.whl (13 kB)\n",
      "Requirement already satisfied: protobuf<4,>=3.12 in /Users/mahimasrivastava/opt/anaconda3/lib/python3.9/site-packages (from streamlit) (3.19.6)\n",
      "Requirement already satisfied: typing-extensions>=3.10.0.0 in /Users/mahimasrivastava/opt/anaconda3/lib/python3.9/site-packages (from streamlit) (4.3.0)\n",
      "Requirement already satisfied: toolz in /Users/mahimasrivastava/opt/anaconda3/lib/python3.9/site-packages (from altair<5,>=3.2.0->streamlit) (0.11.2)\n",
      "Requirement already satisfied: entrypoints in /Users/mahimasrivastava/opt/anaconda3/lib/python3.9/site-packages (from altair<5,>=3.2.0->streamlit) (0.4)\n",
      "Requirement already satisfied: jsonschema>=3.0 in /Users/mahimasrivastava/opt/anaconda3/lib/python3.9/site-packages (from altair<5,>=3.2.0->streamlit) (4.16.0)\n",
      "Requirement already satisfied: jinja2 in /Users/mahimasrivastava/opt/anaconda3/lib/python3.9/site-packages (from altair<5,>=3.2.0->streamlit) (2.11.3)\n",
      "Collecting gitdb<5,>=4.0.1\n",
      "  Using cached gitdb-4.0.10-py3-none-any.whl (62 kB)\n",
      "Requirement already satisfied: zipp>=0.5 in /Users/mahimasrivastava/opt/anaconda3/lib/python3.9/site-packages (from importlib-metadata>=1.4->streamlit) (3.8.0)\n",
      "Requirement already satisfied: pyparsing!=3.0.5,>=2.0.2 in /Users/mahimasrivastava/opt/anaconda3/lib/python3.9/site-packages (from packaging>=14.1->streamlit) (3.0.9)\n",
      "Requirement already satisfied: pytz>=2020.1 in /Users/mahimasrivastava/opt/anaconda3/lib/python3.9/site-packages (from pandas<2,>=0.25->streamlit) (2022.1)\n",
      "Requirement already satisfied: six>=1.5 in /Users/mahimasrivastava/opt/anaconda3/lib/python3.9/site-packages (from python-dateutil->streamlit) (1.16.0)\n",
      "Requirement already satisfied: idna<4,>=2.5 in /Users/mahimasrivastava/opt/anaconda3/lib/python3.9/site-packages (from requests>=2.4->streamlit) (3.3)\n",
      "Requirement already satisfied: certifi>=2017.4.17 in /Users/mahimasrivastava/opt/anaconda3/lib/python3.9/site-packages (from requests>=2.4->streamlit) (2022.9.24)\n",
      "Requirement already satisfied: urllib3<1.27,>=1.21.1 in /Users/mahimasrivastava/opt/anaconda3/lib/python3.9/site-packages (from requests>=2.4->streamlit) (1.26.11)\n",
      "Requirement already satisfied: charset-normalizer<3,>=2 in /Users/mahimasrivastava/opt/anaconda3/lib/python3.9/site-packages (from requests>=2.4->streamlit) (2.0.4)\n",
      "Collecting pygments<3.0.0,>=2.13.0\n",
      "  Using cached Pygments-2.14.0-py3-none-any.whl (1.1 MB)\n",
      "Collecting markdown-it-py<3.0.0,>=2.2.0\n",
      "  Downloading markdown_it_py-2.2.0-py3-none-any.whl (84 kB)\n",
      "\u001b[2K     \u001b[90m━━━━━━━━━━━━━━━━━━━━━━━━━━━━━━━━━━━━━━━\u001b[0m \u001b[32m84.5/84.5 kB\u001b[0m \u001b[31m610.7 kB/s\u001b[0m eta \u001b[36m0:00:00\u001b[0ma \u001b[36m0:00:01\u001b[0m\n",
      "\u001b[?25hCollecting pytz-deprecation-shim\n",
      "  Using cached pytz_deprecation_shim-0.1.0.post0-py2.py3-none-any.whl (15 kB)\n",
      "Requirement already satisfied: decorator>=3.4.0 in /Users/mahimasrivastava/opt/anaconda3/lib/python3.9/site-packages (from validators>=0.2->streamlit) (4.4.2)\n",
      "Collecting smmap<6,>=3.0.1\n",
      "  Using cached smmap-5.0.0-py3-none-any.whl (24 kB)\n",
      "Requirement already satisfied: MarkupSafe>=0.23 in /Users/mahimasrivastava/opt/anaconda3/lib/python3.9/site-packages (from jinja2->altair<5,>=3.2.0->streamlit) (2.0.1)\n",
      "Requirement already satisfied: attrs>=17.4.0 in /Users/mahimasrivastava/opt/anaconda3/lib/python3.9/site-packages (from jsonschema>=3.0->altair<5,>=3.2.0->streamlit) (21.4.0)\n",
      "Requirement already satisfied: pyrsistent!=0.17.0,!=0.17.1,!=0.17.2,>=0.14.0 in /Users/mahimasrivastava/opt/anaconda3/lib/python3.9/site-packages (from jsonschema>=3.0->altair<5,>=3.2.0->streamlit) (0.18.0)\n",
      "Collecting mdurl~=0.1\n",
      "  Using cached mdurl-0.1.2-py3-none-any.whl (10.0 kB)\n",
      "Collecting tzdata\n",
      "  Downloading tzdata-2023.3-py2.py3-none-any.whl (341 kB)\n",
      "\u001b[2K     \u001b[90m━━━━━━━━━━━━━━━━━━━━━━━━━━━━━━━━━━━━━\u001b[0m \u001b[32m341.8/341.8 kB\u001b[0m \u001b[31m665.5 kB/s\u001b[0m eta \u001b[36m0:00:00\u001b[0ma \u001b[36m0:00:01\u001b[0m\n",
      "\u001b[?25hInstalling collected packages: validators, tzdata, smmap, semver, pympler, pygments, pyarrow, mdurl, blinker, pytz-deprecation-shim, pydeck, markdown-it-py, gitdb, tzlocal, rich, gitpython, altair, streamlit\n",
      "  Attempting uninstall: pygments\n",
      "    Found existing installation: Pygments 2.11.2\n",
      "    Uninstalling Pygments-2.11.2:\n",
      "      Successfully uninstalled Pygments-2.11.2\n",
      "\u001b[31mERROR: pip's dependency resolver does not currently take into account all the packages that are installed. This behaviour is the source of the following dependency conflicts.\n",
      "spyder 5.3.3 requires pyqt5<5.16, which is not installed.\n",
      "spyder 5.3.3 requires pyqtwebengine<5.16, which is not installed.\u001b[0m\u001b[31m\n",
      "\u001b[0mSuccessfully installed altair-4.2.2 blinker-1.6 gitdb-4.0.10 gitpython-3.1.31 markdown-it-py-2.2.0 mdurl-0.1.2 pyarrow-11.0.0 pydeck-0.8.0 pygments-2.14.0 pympler-1.0.1 pytz-deprecation-shim-0.1.0.post0 rich-13.3.3 semver-3.0.0 smmap-5.0.0 streamlit-1.20.0 tzdata-2023.3 tzlocal-4.3 validators-0.20.0\n"
     ]
    }
   ],
   "source": [
    "!pip install streamlit\n",
    "import streamlit as st\n",
    "import pandas as pd\n",
    "from PIL import Image\n",
    "import subprocess\n",
    "import os\n",
    "import base64\n",
    "import pickle\n"
   ]
  },
  {
   "cell_type": "code",
   "execution_count": 3,
   "id": "8472128a",
   "metadata": {},
   "outputs": [],
   "source": [
    "# Molecular descriptor calculator\n",
    "def desc_calc():\n",
    "    # Performs the descriptor calculation\n",
    "    bashCommand = \"java -Xms2G -Xmx2G -Djava.awt.headless=true -jar ./PaDEL-Descriptor/PaDEL-Descriptor.jar -removesalt -standardizenitro -fingerprints -descriptortypes ./PaDEL-Descriptor/PubchemFingerprinter.xml -dir ./ -file descriptors_output.csv\"\n",
    "    process = subprocess.Popen(bashCommand.split(), stdout=subprocess.PIPE)\n",
    "    output, error = process.communicate()\n",
    "    os.remove('molecule.smi')"
   ]
  },
  {
   "cell_type": "code",
   "execution_count": 4,
   "id": "a563976b",
   "metadata": {},
   "outputs": [],
   "source": [
    "# File download\n",
    "def filedownload(df):\n",
    "    csv = df.to_csv(index=False)\n",
    "    b64 = base64.b64encode(csv.encode()).decode()  # strings <-> bytes conversions\n",
    "    href = f'<a href=\"data:file/csv;base64,{b64}\" download=\"prediction.csv\">Download Predictions</a>'\n",
    "    return href"
   ]
  },
  {
   "cell_type": "code",
   "execution_count": 5,
   "id": "d30f6f6d",
   "metadata": {},
   "outputs": [],
   "source": [
    "# Model building\n",
    "def build_model(input_data):\n",
    "    # Reads in saved regression model\n",
    "    load_model = pickle.load(open('dardarin_model.pkl', 'rb'))\n",
    "    # Apply model to make predictions\n",
    "    prediction = load_model.predict(input_data)\n",
    "    st.header('**Prediction output**')\n",
    "    prediction_output = pd.Series(prediction, name='pIC50')\n",
    "    molecule_name = pd.Series(load_data[1], name='molecule_name')\n",
    "    df = pd.concat([molecule_name, prediction_output], axis=1)\n",
    "    st.write(df)\n",
    "    st.markdown(filedownload(df), unsafe_allow_html=True)"
   ]
  },
  {
   "cell_type": "code",
   "execution_count": 6,
   "id": "0fb7621b",
   "metadata": {},
   "outputs": [],
   "source": [
    "# Logo image\n",
    "image = Image.open('logo.png')"
   ]
  },
  {
   "cell_type": "code",
   "execution_count": 7,
   "id": "2296ad46",
   "metadata": {},
   "outputs": [
    {
     "name": "stderr",
     "output_type": "stream",
     "text": [
      "2023-04-03 20:08:06.111 \n",
      "  \u001b[33m\u001b[1mWarning:\u001b[0m to view this Streamlit app on a browser, run it with the following\n",
      "  command:\n",
      "\n",
      "    streamlit run /Users/mahimasrivastava/opt/anaconda3/lib/python3.9/site-packages/ipykernel_launcher.py [ARGUMENTS]\n"
     ]
    },
    {
     "data": {
      "text/plain": [
       "DeltaGenerator(_root_container=0, _provided_cursor=None, _parent=None, _block_type=None, _form_data=None)"
      ]
     },
     "execution_count": 7,
     "metadata": {},
     "output_type": "execute_result"
    }
   ],
   "source": [
    "st.image(image, use_column_width=True)"
   ]
  },
  {
   "cell_type": "code",
   "execution_count": 8,
   "id": "4cff6943",
   "metadata": {},
   "outputs": [
    {
     "data": {
      "text/plain": [
       "DeltaGenerator(_root_container=0, _provided_cursor=None, _parent=None, _block_type=None, _form_data=None)"
      ]
     },
     "execution_count": 8,
     "metadata": {},
     "output_type": "execute_result"
    }
   ],
   "source": [
    "# Page title\n",
    "st.markdown(\"\"\"\n",
    "# Bioactivity Prediction App (Dardarin)\n",
    "This app allows you to predict the bioactivity towards inhibting the `Leucine-rich repeat serine/threonine-protein kinase 2` also known as Dardarin enzyme. `Dardarin` is a drug target for Parkinsons's disease.\n",
    "**Credits**\n",
    "- App built in `Python` + `Streamlit` by [Mahima Srivastava](https://github.com/mahimasrivastava16/dardarin_project, https://medium.com/@mahimas1621/computational-drug-design-using-machine-learning-leucine-rich-repeat-serine-threonine-protein-c546efca4c4b))\n",
    "- Descriptor calculated using [PaDEL-Descriptor](http://www.yapcwsoft.com/dd/padeldescriptor/) [[Read the Paper]](https://doi.org/10.1002/jcc.21707).\n",
    "---\n",
    "\"\"\")\n"
   ]
  },
  {
   "cell_type": "code",
   "execution_count": 20,
   "id": "639b7b68",
   "metadata": {},
   "outputs": [],
   "source": [
    "# Sidebar\n",
    "with st.sidebar.header('1. Upload your CSV data'):\n",
    "    uploaded_file = st.sidebar.file_uploader(\"Upload your input file\", type=['txt'])\n",
    "    st.sidebar.markdown(\"\"\"\n",
    "[Example input file](https://raw.githubusercontent.com/dataprofessor/bioactivity-prediction-app/main/example_acetylcholinesterase.txt)\n",
    "\"\"\")\n",
    "\n",
    "if st.sidebar.button('Predict'):\n",
    "    load_data = pd.read_table(uploaded_file, sep=' ', header=None)\n",
    "    load_data.to_csv('molecule.smi', sep = '\\t', header = False, index = False)\n",
    "\n",
    "    st.header('**Original input data**')\n",
    "    st.write(load_data)\n",
    "\n",
    "    with st.spinner(\"Calculating descriptors...\"):\n",
    "        desc_calc()\n",
    "\n",
    "    # Read in calculated descriptors and display the dataframe\n",
    "    st.header('**Calculated molecular descriptors**')\n",
    "    desc = pd.read_csv('descriptors_output.csv')\n",
    "    st.write(desc)\n",
    "    st.write(desc.shape)\n",
    "\n",
    "    # Read descriptor list used in previously built model\n",
    "    st.header('**Subset of descriptors from previously built models**')\n",
    "    Xlist = list(pd.read_csv('descriptor_list.csv').columns)\n",
    "    desc_subset = desc[Xlist]\n",
    "    st.write(desc_subset)\n",
    "    st.write(desc_subset.shape)\n",
    "\n",
    "    # Apply trained model to make prediction on query compounds\n",
    "    build_model(desc_subset)\n",
    "else:\n",
    "    st.info('Upload input data in the sidebar to start!')"
   ]
  }
 ],
 "metadata": {
  "kernelspec": {
   "display_name": "Python 3 (ipykernel)",
   "language": "python",
   "name": "python3"
  },
  "language_info": {
   "codemirror_mode": {
    "name": "ipython",
    "version": 3
   },
   "file_extension": ".py",
   "mimetype": "text/x-python",
   "name": "python",
   "nbconvert_exporter": "python",
   "pygments_lexer": "ipython3",
   "version": "3.9.16"
  }
 },
 "nbformat": 4,
 "nbformat_minor": 5
}
